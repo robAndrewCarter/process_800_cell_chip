{
 "cells": [
  {
   "cell_type": "code",
   "execution_count": 1,
   "metadata": {
    "collapsed": true
   },
   "outputs": [],
   "source": [
    "import numpy as np\n",
    "import pandas as pd\n",
    "import random, string, re\n",
    "from Bio import Seq, SeqIO, SeqRecord"
   ]
  },
  {
   "cell_type": "code",
   "execution_count": 2,
   "metadata": {
    "collapsed": true
   },
   "outputs": [],
   "source": [
    "bases = ['A', 'C', 'T', 'G']"
   ]
  },
  {
   "cell_type": "code",
   "execution_count": 3,
   "metadata": {
    "collapsed": false
   },
   "outputs": [
    {
     "data": {
      "text/plain": [
       "array([1, 1, 0, 2, 2, 1, 2, 0, 1, 2, 2, 1, 1, 2, 0, 1, 1, 2, 2, 1, 1, 1,\n",
       "       2, 0, 2, 0, 1, 1, 0, 2, 2, 1, 2, 2, 2, 2, 2, 2, 0, 0, 0, 1, 0, 1,\n",
       "       1, 0, 1, 0, 1, 2, 1, 1, 2, 2, 1, 0, 0, 0, 1, 1, 2, 1, 1, 2, 1, 1,\n",
       "       2, 1, 2, 2, 2, 0, 2, 2, 0, 0, 2, 1, 2, 2, 0, 0, 0, 0, 1, 2, 2, 2,\n",
       "       0, 2, 0, 0, 2, 2, 0, 1, 1, 0, 2, 1])"
      ]
     },
     "execution_count": 3,
     "metadata": {},
     "output_type": "execute_result"
    }
   ],
   "source": [
    "np.random.randint(0, 3, 100)"
   ]
  },
  {
   "cell_type": "code",
   "execution_count": 4,
   "metadata": {
    "collapsed": true
   },
   "outputs": [],
   "source": [
    "def make_sequence(length):\n",
    "    return \"\".join([bases[_ind] for _ind in np.random.randint(0, 3, length)])"
   ]
  },
  {
   "cell_type": "code",
   "execution_count": 5,
   "metadata": {
    "collapsed": false
   },
   "outputs": [],
   "source": [
    "def make_gene_exon_intron_list(exon_intron_length_list):\n",
    "    exon_intron_list = []\n",
    "    for _i in range(0, len(exon_intron_length_list)):\n",
    "        target_length = exon_intron_length_list[_i]\n",
    "        if _i % 2 == 0:\n",
    "            exon_intron_list.append(make_sequence(target_length))\n",
    "        else:\n",
    "            exon_intron_list.append('GT' + make_sequence(target_length - 4) + 'AG')\n",
    "    return exon_intron_list"
   ]
  },
  {
   "cell_type": "markdown",
   "metadata": {},
   "source": [
    "Make some genes"
   ]
  },
  {
   "cell_type": "code",
   "execution_count": 6,
   "metadata": {
    "collapsed": false
   },
   "outputs": [],
   "source": [
    "gene_1_list = make_gene_exon_intron_list([100,20,100,20,100])\n",
    "gene_2_list = make_gene_exon_intron_list([50,20,50])\n",
    "gene_1_transcript_1_sequence = gene_1_list[0] + gene_1_list[2]\n",
    "gene_1_transcript_2_sequence = gene_1_list[2] + gene_1_list[4]\n",
    "gene_2_transcript_1_sequence = gene_2_list[0] + gene_2_list[2]"
   ]
  },
  {
   "cell_type": "markdown",
   "metadata": {},
   "source": [
    "We make a 200 bp genome sequence, with 20 bases of random nucleotides on either side of the gene. The sequence is also written as a fasta file."
   ]
  },
  {
   "cell_type": "code",
   "execution_count": 26,
   "metadata": {
    "collapsed": false
   },
   "outputs": [],
   "source": [
    "genome_sequence = make_sequence(20) + \"\".join(gene_1_list) + make_sequence(20) + \"\".join(gene_2_list) + make_sequence(20)\n",
    "with open('test.fa', 'w') as fh:\n",
    "    SeqIO.write(SeqRecord.SeqRecord(seq = Seq.Seq(genome_sequence), id = 'chr1', description = ''), format='fasta', handle = fh)\n"
   ]
  },
  {
   "cell_type": "code",
   "execution_count": 27,
   "metadata": {},
   "outputs": [
    {
     "data": {
      "text/plain": [
       "'TCCAAACAACACTACCCACTCTATCACCACTCCACACCACCTATATTTTCTAATATCCTAAACCAACACCTCCCCTTTACCATTTATACCCTCATCACATAATAATCCCACTCAAACCTAGTCCCAAATATAATATCCAGCTATTCCTCTTTTCTCAAACAAATCCAAACTTCTACTATTTATTCAACCCATCCTCCCTATAACTTCCTAAAACTTTTACATACTAAAAACTCATCACCCGTTATCACACCACAACTTAGTTATACTATCAAATAAACACTCCCAATTTTAAACCCCCTATATACTAAAACCCACTTCTCATTTTCCTCATCAAAAATATTACCCCTATCATAACTCTACTAATCACATCTTTACACCTTTACCCCCTCACACAATCTTTATAACTCCCATCCTACTCTTTTCCCTAACCGTTTCCCAATCACTCCTCAGAACCTTCCTTCACCTAAACTCCTCCCACCCATCACATTAACCTAACCCACTAATTACAAATCCCACCTAA'"
      ]
     },
     "execution_count": 27,
     "metadata": {},
     "output_type": "execute_result"
    }
   ],
   "source": [
    "genome_sequence"
   ]
  },
  {
   "cell_type": "markdown",
   "metadata": {},
   "source": [
    "Make a sample gtf and write it to file"
   ]
  },
  {
   "cell_type": "code",
   "execution_count": 28,
   "metadata": {
    "collapsed": false
   },
   "outputs": [],
   "source": [
    "import csv\n",
    "list_for_gft_df = [['test', 'FOO', 'gene', 21, 360, '.', '+', '.', 'gene_id \"ENSG_test1\";']]\n",
    "list_for_gft_df.append(['chr1', 'test', 'transcript', 21, 240, '.', '+', '.', 'gene_id \"ENSG_test1\"; transcript_id \"ENST_test1_1\";'])\n",
    "list_for_gft_df.append(['chr1', 'test', 'exon', 21, 120, '.', '+', '.', 'gene_id \"ENSG_test1\"; transcript_id \"ENST_test1_1\";'])\n",
    "list_for_gft_df.append(['chr1', 'test', 'exon', 141, 240, '.', '+', '.', 'gene_id \"ENSG_test1\"; transcript_id \"ENST_test1_1\";'])\n",
    "list_for_gft_df.append(['chr1', 'test', 'transcript', 141, 360, '.', '+', '.', 'gene_id \"ENSG_test1\"; transcript_id \"ENST_test1_2\";'])\n",
    "list_for_gft_df.append(['chr1', 'test', 'exon', 141, 240, '.', '+', '.', 'gene_id \"ENSG_test1\"; transcript_id \"ENST_test1_2\";'])\n",
    "list_for_gft_df.append(['chr1', 'test', 'exon', 261, 360, '.', '+', '.', 'gene_id \"ENSG_test1\"; transcript_id \"ENST_test1_2\";'])\n",
    "list_for_gft_df.append(['chr1', 'test', 'gene', 381, 500, '.', '+', '.', 'gene_id \"ENSG_test2\";'])\n",
    "list_for_gft_df.append(['chr1', 'test', 'transcript', 381, 500, '.', '+', '.', 'gene_id \"ENSG_test2\"; transcript_id \"ENST_test2_1\";'])\n",
    "list_for_gft_df.append(['chr1', 'test', 'exon', 381, 430, '.', '+', '.', 'gene_id \"ENSG_test2\"; transcript_id \"ENST_test2_1\";'])\n",
    "list_for_gft_df.append(['chr1', 'test', 'exon', 451, 500, '.', '+', '.', 'gene_id \"ENSG_test2\"; transcript_id \"ENST_test2_1\";'])\n",
    "pd.DataFrame(list_for_gft_df).to_csv(\"test.gtf\", sep = \"\\t\", header = False, index = False, quoting = csv.QUOTE_NONE)#quotechar = '')#, doublequote = False)"
   ]
  },
  {
   "cell_type": "markdown",
   "metadata": {},
   "source": [
    "Make a STAR genome index"
   ]
  },
  {
   "cell_type": "code",
   "execution_count": 29,
   "metadata": {
    "collapsed": false
   },
   "outputs": [
    {
     "name": "stdout",
     "output_type": "stream",
     "text": [
      "\tSTAR --runThreadN 1 --runMode genomeGenerate --genomeSAindexNbases 10 --genomeDir ./STAR_GENOME --genomeFastaFiles ./test.fa --sjdbGTFfile ./test.gtf --sjdbOverhang 35\n",
      "\tSTAR version: 2.7.10a   compiled: 2022-01-14T18:50:00-05:00 :/home/dobin/data/STAR/STARcode/STAR.master/source\n",
      "Jul 12 16:12:23 ..... started STAR run\n",
      "Jul 12 16:12:23 ... starting to generate Genome files\n",
      "Jul 12 16:12:23 ..... processing annotations GTF\n",
      "!!!!! WARNING: --genomeSAindexNbases 10 is too large for the genome size=520, which may cause seg-fault at the mapping step. Re-run genome generation with recommended --genomeSAindexNbases 3\n",
      "Jul 12 16:12:23 ... starting to sort Suffix Array. This may take a long time...\n",
      "Jul 12 16:12:23 ... sorting Suffix Array chunks and saving them to disk...\n",
      "Jul 12 16:12:23 ... loading chunks from disk, packing SA...\n",
      "Jul 12 16:12:23 ... finished generating suffix array\n",
      "Jul 12 16:12:23 ... generating Suffix Array index\n",
      "Jul 12 16:12:23 ... completed Suffix Array index\n",
      "Jul 12 16:12:23 ..... inserting junctions into the genome indices\n",
      "Jul 12 16:12:23 ... writing Genome to disk ...\n",
      "Jul 12 16:12:23 ... writing Suffix Array to disk ...\n",
      "Jul 12 16:12:23 ... writing SAindex to disk\n",
      "Jul 12 16:12:23 ..... finished successfully\n"
     ]
    }
   ],
   "source": [
    "! STAR --runThreadN 1 --runMode genomeGenerate --genomeSAindexNbases 10 --genomeDir ./STAR_GENOME --genomeFastaFiles ./test.fa --sjdbGTFfile ./test.gtf --sjdbOverhang 35"
   ]
  },
  {
   "cell_type": "code",
   "execution_count": 30,
   "metadata": {
    "collapsed": true
   },
   "outputs": [],
   "source": [
    "def mutate_dna(dna_str, nm = 1):\n",
    "    inds_list = [random.randrange(0,len(dna_str)) for _i in 'a'*nm]\n",
    "    new_seq_list = list(dna_str)\n",
    "    for _ind in inds_list:\n",
    "        current_base = dna_str[_ind]\n",
    "        new_base = bases[random.randrange(0,4)]\n",
    "        while new_base == current_base:\n",
    "            new_base = bases[random.randrange(0,4)]\n",
    "        new_seq_list[_ind] = new_base\n",
    "    return ''.join(new_seq_list)\n",
    "    "
   ]
  },
  {
   "cell_type": "markdown",
   "metadata": {},
   "source": [
    "Make some reads and write them to fastq files"
   ]
  },
  {
   "cell_type": "code",
   "execution_count": 35,
   "metadata": {
    "collapsed": true
   },
   "outputs": [],
   "source": [
    "def make_paired_reads_and_write_to_fastq_file(cell_barcode, umi, transcript_seq, read1_fh, read2_fh, read_length = 70, bc_nm = 1, umi_nm = 1):\n",
    "    read_id = 'TESTREAD_' + ''.join([random.choice(string.ascii_uppercase + string.digits) for _ind in range(8)])\n",
    "    read_1_str = mutate_dna(cell_barcode, bc_nm) + mutate_dna(umi, umi_nm) + 'TTTTTTTTTT'\n",
    "    r1_seqrec = SeqRecord.SeqRecord(id = read_id, description = '', seq = Seq.Seq(read_1_str))\n",
    "    r1_seqrec.letter_annotations['phred_quality'] = [30 for i in range(len(read_1_str))]\n",
    "    SeqIO.write(r1_seqrec, format = 'fastq', handle = read1_fh)\n",
    "    start_ind = random.randint(0, len(transcript_seq) - read_length)\n",
    "    read_2_str = transcript_seq[start_ind:(start_ind + read_length)]\n",
    "    r2_seqrec = SeqRecord.SeqRecord(id = read_id, description = '', seq = Seq.Seq(read_2_str))\n",
    "    r2_seqrec.letter_annotations['phred_quality'] = [30 for i in range(read_length)]\n",
    "    SeqIO.write(r2_seqrec, format = 'fastq', handle = read2_fh)"
   ]
  },
  {
   "cell_type": "code",
   "execution_count": 36,
   "metadata": {
    "collapsed": true
   },
   "outputs": [],
   "source": [
    "cell_1_barcode = 'AGATCG'\n",
    "cell_2_barcode = 'CGTAGA'\n",
    "umi_1 = 'ATCCG'\n",
    "umi_2 = 'TAGGT'\n",
    "umi_3 = 'CCTAA'"
   ]
  },
  {
   "cell_type": "raw",
   "metadata": {},
   "source": [
    "The follwing counts should result:\n",
    "        ENSG_test1     ENSG_test2     __no_feature    __ambiguous     __too_low_aQual __not_aligned   __alignment_not_unique\n",
    "test_ROW10_R2_umi_labelledAligned       3       2      0       0       0       0       0\n",
    "test_ROW20_R2_umi_labelledAligned       2       3      0       0       0       0       0\n",
    "\n"
   ]
  },
  {
   "cell_type": "code",
   "execution_count": 37,
   "metadata": {
    "collapsed": false
   },
   "outputs": [],
   "source": [
    "r1_fh = open(\"./test_R1.fastq\", 'w')\n",
    "r2_fh = open(\"./test_R2.fastq\", 'w')\n",
    "\n",
    "#cell 1\n",
    "make_paired_reads_and_write_to_fastq_file(cell_1_barcode, umi_1, gene_1_transcript_1_sequence, r1_fh, r2_fh, umi_nm = 0)\n",
    "make_paired_reads_and_write_to_fastq_file(cell_1_barcode, umi_1, gene_1_transcript_1_sequence, r1_fh, r2_fh, umi_nm = 0)\n",
    "make_paired_reads_and_write_to_fastq_file(cell_1_barcode, umi_1, gene_1_transcript_2_sequence, r1_fh, r2_fh, umi_nm = 0)\n",
    "make_paired_reads_and_write_to_fastq_file(cell_1_barcode, umi_1, gene_1_transcript_1_sequence, r1_fh, r2_fh, umi_nm = 0)\n",
    "make_paired_reads_and_write_to_fastq_file(cell_1_barcode, umi_1, gene_1_transcript_1_sequence, r1_fh, r2_fh, umi_nm = 0)\n",
    "make_paired_reads_and_write_to_fastq_file(cell_1_barcode, umi_2, gene_1_transcript_1_sequence, r1_fh, r2_fh, umi_nm = 0)\n",
    "make_paired_reads_and_write_to_fastq_file(cell_1_barcode, umi_2, gene_1_transcript_1_sequence, r1_fh, r2_fh, umi_nm = 0)\n",
    "make_paired_reads_and_write_to_fastq_file(cell_1_barcode, umi_2, gene_1_transcript_2_sequence, r1_fh, r2_fh, umi_nm = 0)\n",
    "make_paired_reads_and_write_to_fastq_file(cell_1_barcode, umi_3, gene_1_transcript_1_sequence, r1_fh, r2_fh, umi_nm = 0)\n",
    "make_paired_reads_and_write_to_fastq_file(cell_1_barcode, umi_3, gene_1_transcript_1_sequence, r1_fh, r2_fh, umi_nm = 0)\n",
    "make_paired_reads_and_write_to_fastq_file(cell_1_barcode, umi_3, gene_1_transcript_2_sequence, r1_fh, r2_fh, umi_nm = 0)\n",
    "\n",
    "make_paired_reads_and_write_to_fastq_file(cell_1_barcode, umi_2, gene_2_transcript_1_sequence, r1_fh, r2_fh, umi_nm = 0)\n",
    "make_paired_reads_and_write_to_fastq_file(cell_1_barcode, umi_2, gene_2_transcript_1_sequence, r1_fh, r2_fh, umi_nm = 0)\n",
    "make_paired_reads_and_write_to_fastq_file(cell_1_barcode, umi_2, gene_2_transcript_1_sequence, r1_fh, r2_fh, umi_nm = 0)\n",
    "make_paired_reads_and_write_to_fastq_file(cell_1_barcode, umi_3, gene_2_transcript_1_sequence, r1_fh, r2_fh, umi_nm = 0)\n",
    "make_paired_reads_and_write_to_fastq_file(cell_1_barcode, umi_3, gene_2_transcript_1_sequence, r1_fh, r2_fh, umi_nm = 0)\n",
    "\n",
    "#cell 2\n",
    "\n",
    "make_paired_reads_and_write_to_fastq_file(cell_2_barcode, umi_3, gene_1_transcript_1_sequence, r1_fh, r2_fh, umi_nm = 0)\n",
    "make_paired_reads_and_write_to_fastq_file(cell_2_barcode, umi_1, gene_1_transcript_2_sequence, r1_fh, r2_fh, umi_nm = 0)\n",
    "\n",
    "make_paired_reads_and_write_to_fastq_file(cell_2_barcode, umi_1, gene_2_transcript_1_sequence, r1_fh, r2_fh, umi_nm = 0)\n",
    "make_paired_reads_and_write_to_fastq_file(cell_2_barcode, umi_2, gene_2_transcript_1_sequence, r1_fh, r2_fh, umi_nm = 0)\n",
    "make_paired_reads_and_write_to_fastq_file(cell_2_barcode, umi_2, gene_2_transcript_1_sequence, r1_fh, r2_fh, umi_nm = 0)\n",
    "make_paired_reads_and_write_to_fastq_file(cell_2_barcode, umi_2, gene_2_transcript_1_sequence, r1_fh, r2_fh, umi_nm = 0)\n",
    "make_paired_reads_and_write_to_fastq_file(cell_2_barcode, umi_2, gene_2_transcript_1_sequence, r1_fh, r2_fh, umi_nm = 0)\n",
    "make_paired_reads_and_write_to_fastq_file(cell_2_barcode, umi_2, gene_2_transcript_1_sequence, r1_fh, r2_fh, umi_nm = 0)\n",
    "make_paired_reads_and_write_to_fastq_file(cell_2_barcode, umi_2, gene_2_transcript_1_sequence, r1_fh, r2_fh, umi_nm = 0)\n",
    "make_paired_reads_and_write_to_fastq_file(cell_2_barcode, umi_2, gene_2_transcript_1_sequence, r1_fh, r2_fh, umi_nm = 0)\n",
    "make_paired_reads_and_write_to_fastq_file(cell_2_barcode, umi_2, gene_2_transcript_1_sequence, r1_fh, r2_fh, umi_nm = 0)\n",
    "make_paired_reads_and_write_to_fastq_file(cell_2_barcode, umi_2, gene_2_transcript_1_sequence, r1_fh, r2_fh, umi_nm = 0)\n",
    "make_paired_reads_and_write_to_fastq_file(cell_2_barcode, umi_2, gene_2_transcript_1_sequence, r1_fh, r2_fh, umi_nm = 0)\n",
    "make_paired_reads_and_write_to_fastq_file(cell_2_barcode, umi_3, gene_2_transcript_1_sequence, r1_fh, r2_fh, umi_nm = 0)\n",
    "\n",
    "r1_fh.close()\n",
    "r2_fh.close()"
   ]
  }
 ],
 "metadata": {
  "kernelspec": {
   "display_name": "Python 3.6.13 ('process_800_cell_chip')",
   "language": "python",
   "name": "python3"
  },
  "language_info": {
   "codemirror_mode": {
    "name": "ipython",
    "version": 3
   },
   "file_extension": ".py",
   "mimetype": "text/x-python",
   "name": "python",
   "nbconvert_exporter": "python",
   "pygments_lexer": "ipython3",
   "version": "3.6.13"
  },
  "vscode": {
   "interpreter": {
    "hash": "36b7ffc60557fb7bf615677c778dd8bc6d9312733dd5eff831d91cc5a64f7415"
   }
  }
 },
 "nbformat": 4,
 "nbformat_minor": 2
}
