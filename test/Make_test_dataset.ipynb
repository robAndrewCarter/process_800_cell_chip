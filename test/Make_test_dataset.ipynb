{
 "cells": [
  {
   "cell_type": "code",
   "execution_count": 61,
   "metadata": {
    "collapsed": true
   },
   "outputs": [],
   "source": [
    "import numpy as np\n",
    "import pandas as pd\n",
    "import random, string, re\n",
    "from Bio import Seq, SeqIO, SeqRecord"
   ]
  },
  {
   "cell_type": "code",
   "execution_count": 2,
   "metadata": {
    "collapsed": true
   },
   "outputs": [],
   "source": [
    "bases = ['A', 'C', 'T', 'G']"
   ]
  },
  {
   "cell_type": "code",
   "execution_count": 3,
   "metadata": {
    "collapsed": false
   },
   "outputs": [
    {
     "data": {
      "text/plain": [
       "array([0, 0, 1, 1, 0, 1, 0, 2, 1, 1, 2, 2, 1, 2, 2, 0, 2, 1, 0, 2, 0, 0, 1,\n",
       "       1, 0, 0, 0, 1, 1, 0, 2, 1, 2, 1, 0, 1, 0, 0, 0, 0, 1, 1, 0, 0, 0, 2,\n",
       "       0, 1, 1, 2, 0, 2, 0, 0, 1, 0, 2, 2, 2, 1, 2, 1, 1, 0, 0, 2, 1, 1, 2,\n",
       "       1, 2, 2, 0, 1, 2, 1, 1, 0, 0, 1, 1, 0, 1, 0, 0, 1, 1, 0, 0, 2, 1, 1,\n",
       "       0, 0, 2, 1, 0, 2, 0, 0])"
      ]
     },
     "execution_count": 3,
     "metadata": {},
     "output_type": "execute_result"
    }
   ],
   "source": [
    "np.random.randint(0, 3, 100)"
   ]
  },
  {
   "cell_type": "code",
   "execution_count": 4,
   "metadata": {
    "collapsed": true
   },
   "outputs": [],
   "source": [
    "def make_sequence(length):\n",
    "    return \"\".join([bases[_ind] for _ind in np.random.randint(0, 3, length)])"
   ]
  },
  {
   "cell_type": "code",
   "execution_count": 5,
   "metadata": {
    "collapsed": false
   },
   "outputs": [],
   "source": [
    "def make_gene_exon_intron_list(exon_intron_length_list):\n",
    "    exon_intron_list = []\n",
    "    for _i in range(0, len(exon_intron_length_list)):\n",
    "        target_length = exon_intron_length_list[_i]\n",
    "        if _i % 2 == 0:\n",
    "            exon_intron_list.append(make_sequence(target_length))\n",
    "        else:\n",
    "            exon_intron_list.append('GT' + make_sequence(target_length - 4) + 'AG')\n",
    "    return exon_intron_list"
   ]
  },
  {
   "cell_type": "markdown",
   "metadata": {},
   "source": [
    "Make some genes"
   ]
  },
  {
   "cell_type": "code",
   "execution_count": 91,
   "metadata": {
    "collapsed": false
   },
   "outputs": [],
   "source": [
    "gene_1_list = make_gene_exon_intron_list([100,20,100,20,100])\n",
    "gene_2_list = make_gene_exon_intron_list([50,20,50])\n",
    "gene_1_transcript_1_sequence = gene_1_list[0] + gene_1_list[2]\n",
    "gene_1_transcript_2_sequence = gene_1_list[2] + gene_1_list[4]\n",
    "gene_2_transcript_1_sequence = gene_2_list[0] + gene_2_list[2]"
   ]
  },
  {
   "cell_type": "markdown",
   "metadata": {},
   "source": [
    "We make a 200 bp genome sequence, with 20 bases of random nucleotides on either side of the gene. The sequence is also written as a fasta file."
   ]
  },
  {
   "cell_type": "code",
   "execution_count": 92,
   "metadata": {
    "collapsed": false
   },
   "outputs": [
    {
     "data": {
      "text/plain": [
       "1"
      ]
     },
     "execution_count": 92,
     "metadata": {},
     "output_type": "execute_result"
    }
   ],
   "source": [
    "genome_sequence = make_sequence(20) + \"\".join(gene_1_list) + make_sequence(20) + \"\".join(gene_2_list) + make_sequence(20)\n",
    "SeqIO.write(SeqRecord.SeqRecord(seq = Seq.Seq(genome_sequence), id = 'test', description = ''), format='fasta', handle = './STAR_GENOME/test.fa')"
   ]
  },
  {
   "cell_type": "markdown",
   "metadata": {},
   "source": [
    "Make a sample gtf and write it to file"
   ]
  },
  {
   "cell_type": "code",
   "execution_count": 93,
   "metadata": {
    "collapsed": false
   },
   "outputs": [],
   "source": [
    "import csv\n",
    "list_for_gft_df = [['test', 'FOO', 'gene', 21, 360, '.', '+', '.', 'gene_id \"ENSG_test1\";']]\n",
    "list_for_gft_df.append(['test', 'FOO', 'transcript', 21, 240, '.', '+', '.', 'gene_id \"ENSG_test1\"; transcript_id \"ENST_test1_1\";'])\n",
    "list_for_gft_df.append(['test', 'FOO', 'exon', 21, 120, '.', '+', '.', 'gene_id \"ENSG_test1\"; transcript_id \"ENST_test1_1\";'])\n",
    "list_for_gft_df.append(['test', 'FOO', 'exon', 141, 240, '.', '+', '.', 'gene_id \"ENSG_test1\"; transcript_id \"ENST_test1_1\";'])\n",
    "list_for_gft_df.append(['test', 'FOO', 'transcript', 141, 360, '.', '+', '.', 'gene_id \"ENSG_test1\"; transcript_id \"ENST_test1_2\";'])\n",
    "list_for_gft_df.append(['test', 'FOO', 'exon', 141, 240, '.', '+', '.', 'gene_id \"ENSG_test1\"; transcript_id \"ENST_test1_2\";'])\n",
    "list_for_gft_df.append(['test', 'FOO', 'exon', 261, 360, '.', '+', '.', 'gene_id \"ENSG_test1\"; transcript_id \"ENST_test1_2\";'])\n",
    "list_for_gft_df.append(['test', 'FOO', 'gene', 381, 500, '.', '+', '.', 'gene_id \"ENSG_test2\";'])\n",
    "list_for_gft_df.append(['test', 'FOO', 'transcript', 381, 500, '.', '+', '.', 'gene_id \"ENSG_test2\"; transcript_id \"ENST_test2_1\";'])\n",
    "list_for_gft_df.append(['test', 'FOO', 'exon', 381, 430, '.', '+', '.', 'gene_id \"ENSG_test2\"; transcript_id \"ENST_test2_1\";'])\n",
    "list_for_gft_df.append(['test', 'FOO', 'exon', 451, 500, '.', '+', '.', 'gene_id \"ENSG_test2\"; transcript_id \"ENST_test2_1\";'])\n",
    "pd.DataFrame(list_for_gft_df).to_csv(\"STAR_GENOME/test.gtf\", sep = \"\\t\", header = False, index = False, quoting = csv.QUOTE_NONE)#quotechar = '')#, doublequote = False)"
   ]
  },
  {
   "cell_type": "markdown",
   "metadata": {},
   "source": [
    "Make a STAR genome index"
   ]
  },
  {
   "cell_type": "code",
   "execution_count": 94,
   "metadata": {
    "collapsed": false
   },
   "outputs": [
    {
     "name": "stdout",
     "output_type": "stream",
     "text": [
      "Apr 11 12:57:33 ..... Started STAR run\r\n",
      "Apr 11 12:57:33 ... Starting to generate Genome files\r\n",
      "Apr 11 12:57:33 ... starting to sort  Suffix Array. This may take a long time...\r\n",
      "Apr 11 12:57:33 ... sorting Suffix Array chunks and saving them to disk...\r\n",
      "Apr 11 12:57:33 ... loading chunks from disk, packing SA...\r\n",
      "Apr 11 12:57:33 ... Finished generating suffix array\r\n",
      "Apr 11 12:57:33 ... Generating Suffix Array index\r\n",
      "Apr 11 12:57:33 ... Completed Suffix Array index\r\n",
      "Apr 11 12:57:33 ..... Processing annotations GTF\r\n",
      "Apr 11 12:57:33 ..... Inserting junctions into the genome indices\r\n",
      "Apr 11 12:57:33 ... writing Genome to disk ...\r\n",
      "Apr 11 12:57:33 ... writing Suffix Array to disk ...\r\n",
      "Apr 11 12:57:33 ... writing SAindex to disk\r\n",
      "Apr 11 12:57:33 ..... Finished successfully\r\n"
     ]
    }
   ],
   "source": [
    "! STAR --runThreadN 1 --runMode genomeGenerate --genomeSAindexNbases 10 --genomeDir ./STAR_GENOME --genomeFastaFiles ./STAR_GENOME/test.fa --sjdbGTFfile ./STAR_GENOME/test.gtf --sjdbOverhang 35"
   ]
  },
  {
   "cell_type": "code",
   "execution_count": 67,
   "metadata": {
    "collapsed": true
   },
   "outputs": [],
   "source": [
    "def mutate_dna(dna_str, nm = 1):\n",
    "    inds_list = [random.randrange(0,len(dna_str)) for _i in 'a'*nm]\n",
    "    new_seq_list = list(dna_str)\n",
    "    for _ind in inds_list:\n",
    "        current_base = dna_str[_ind]\n",
    "        new_base = bases[random.randrange(0,4)]\n",
    "        while new_base == current_base:\n",
    "            new_base = bases[random.randrange(0,4)]\n",
    "        new_seq_list[_ind] = new_base\n",
    "    return ''.join(new_seq_list)\n",
    "    "
   ]
  },
  {
   "cell_type": "markdown",
   "metadata": {},
   "source": [
    "Make some reads and write them to fastq files"
   ]
  },
  {
   "cell_type": "code",
   "execution_count": 68,
   "metadata": {
    "collapsed": true
   },
   "outputs": [],
   "source": [
    "def make_paired_reads_and_write_to_fastq_file(cell_barcode, umi, transcript_seq, read1_fh, read2_fh, read_length = 70, bc_nm = 1, umi_nm = 1):\n",
    "    read_id = 'TESTREAD_' + ''.join([random.choice(string.ascii_uppercase + string.digits) for _ind in range(6)])\n",
    "    read_1_str = mutate_dna(cell_barcode, bc_nm) + mutate_dna(umi, umi_nm) + 'TTTTTTTTTT'\n",
    "    r1_seqrec = SeqRecord.SeqRecord(id = read_id, description = '', seq = Seq.Seq(read_1_str))\n",
    "    r1_seqrec.letter_annotations['phred_quality'] = [30 for i in range(len(read_1_str))]\n",
    "    SeqIO.write(r1_seqrec, format = 'fastq', handle = read1_fh)\n",
    "    start_ind = random.randint(0, len(transcript_seq) - read_length)\n",
    "    read_2_str = transcript_seq[start_ind:(start_ind + read_length)]\n",
    "    r2_seqrec = SeqRecord.SeqRecord(id = read_id, description = '', seq = Seq.Seq(read_2_str))\n",
    "    r2_seqrec.letter_annotations['phred_quality'] = [30 for i in range(read_length)]\n",
    "    SeqIO.write(r2_seqrec, format = 'fastq', handle = read2_fh)"
   ]
  },
  {
   "cell_type": "code",
   "execution_count": 82,
   "metadata": {
    "collapsed": true
   },
   "outputs": [],
   "source": [
    "cell_1_barcode = 'AGATCG'\n",
    "cell_2_barcode = 'CGTAGA'\n",
    "umi_1 = 'ATCCG'\n",
    "umi_2 = 'TAGGT'\n",
    "umi_3 = 'CCTAA'"
   ]
  },
  {
   "cell_type": "raw",
   "metadata": {},
   "source": [
    "The follwing counts should result:\n",
    "        ENSG_test1     ENSG_test2     __no_feature    __ambiguous     __too_low_aQual __not_aligned   __alignment_not_unique\n",
    "test_ROW10_R2_umi_labelledAligned       3       2      0       0       0       0       0\n",
    "test_ROW20_R2_umi_labelledAligned       2       3      0       0       0       0       0\n",
    "\n"
   ]
  },
  {
   "cell_type": "code",
   "execution_count": 106,
   "metadata": {
    "collapsed": false
   },
   "outputs": [],
   "source": [
    "r1_fh = open(\"./FASTQ/test_R1.fastq\", 'w')\n",
    "r2_fh = open(\"./FASTQ/test_R2.fastq\", 'w')\n",
    "\n",
    "#cell 1\n",
    "make_paired_reads_and_write_to_fastq_file(cell_1_barcode, umi_1, gene_1_transcript_1_sequence, r1_fh, r2_fh, umi_nm = 0)\n",
    "make_paired_reads_and_write_to_fastq_file(cell_1_barcode, umi_1, gene_1_transcript_1_sequence, r1_fh, r2_fh, umi_nm = 0)\n",
    "make_paired_reads_and_write_to_fastq_file(cell_1_barcode, umi_1, gene_1_transcript_2_sequence, r1_fh, r2_fh, umi_nm = 0)\n",
    "make_paired_reads_and_write_to_fastq_file(cell_1_barcode, umi_1, gene_1_transcript_1_sequence, r1_fh, r2_fh, umi_nm = 0)\n",
    "make_paired_reads_and_write_to_fastq_file(cell_1_barcode, umi_1, gene_1_transcript_1_sequence, r1_fh, r2_fh, umi_nm = 0)\n",
    "make_paired_reads_and_write_to_fastq_file(cell_1_barcode, umi_2, gene_1_transcript_1_sequence, r1_fh, r2_fh, umi_nm = 0)\n",
    "make_paired_reads_and_write_to_fastq_file(cell_1_barcode, umi_2, gene_1_transcript_1_sequence, r1_fh, r2_fh, umi_nm = 0)\n",
    "make_paired_reads_and_write_to_fastq_file(cell_1_barcode, umi_2, gene_1_transcript_2_sequence, r1_fh, r2_fh, umi_nm = 0)\n",
    "make_paired_reads_and_write_to_fastq_file(cell_1_barcode, umi_3, gene_1_transcript_1_sequence, r1_fh, r2_fh, umi_nm = 0)\n",
    "make_paired_reads_and_write_to_fastq_file(cell_1_barcode, umi_3, gene_1_transcript_1_sequence, r1_fh, r2_fh, umi_nm = 0)\n",
    "make_paired_reads_and_write_to_fastq_file(cell_1_barcode, umi_3, gene_1_transcript_2_sequence, r1_fh, r2_fh, umi_nm = 0)\n",
    "\n",
    "make_paired_reads_and_write_to_fastq_file(cell_1_barcode, umi_2, gene_2_transcript_1_sequence, r1_fh, r2_fh, umi_nm = 0)\n",
    "make_paired_reads_and_write_to_fastq_file(cell_1_barcode, umi_2, gene_2_transcript_1_sequence, r1_fh, r2_fh, umi_nm = 0)\n",
    "make_paired_reads_and_write_to_fastq_file(cell_1_barcode, umi_2, gene_2_transcript_1_sequence, r1_fh, r2_fh, umi_nm = 0)\n",
    "make_paired_reads_and_write_to_fastq_file(cell_1_barcode, umi_3, gene_2_transcript_1_sequence, r1_fh, r2_fh, umi_nm = 0)\n",
    "make_paired_reads_and_write_to_fastq_file(cell_1_barcode, umi_3, gene_2_transcript_1_sequence, r1_fh, r2_fh, umi_nm = 0)\n",
    "\n",
    "#cell 2\n",
    "\n",
    "make_paired_reads_and_write_to_fastq_file(cell_2_barcode, umi_3, gene_1_transcript_1_sequence, r1_fh, r2_fh, umi_nm = 0)\n",
    "make_paired_reads_and_write_to_fastq_file(cell_2_barcode, umi_1, gene_1_transcript_2_sequence, r1_fh, r2_fh, umi_nm = 0)\n",
    "\n",
    "make_paired_reads_and_write_to_fastq_file(cell_2_barcode, umi_1, gene_2_transcript_1_sequence, r1_fh, r2_fh, umi_nm = 0)\n",
    "make_paired_reads_and_write_to_fastq_file(cell_2_barcode, umi_2, gene_2_transcript_1_sequence, r1_fh, r2_fh, umi_nm = 0)\n",
    "make_paired_reads_and_write_to_fastq_file(cell_2_barcode, umi_2, gene_2_transcript_1_sequence, r1_fh, r2_fh, umi_nm = 0)\n",
    "make_paired_reads_and_write_to_fastq_file(cell_2_barcode, umi_2, gene_2_transcript_1_sequence, r1_fh, r2_fh, umi_nm = 0)\n",
    "make_paired_reads_and_write_to_fastq_file(cell_2_barcode, umi_2, gene_2_transcript_1_sequence, r1_fh, r2_fh, umi_nm = 0)\n",
    "make_paired_reads_and_write_to_fastq_file(cell_2_barcode, umi_2, gene_2_transcript_1_sequence, r1_fh, r2_fh, umi_nm = 0)\n",
    "make_paired_reads_and_write_to_fastq_file(cell_2_barcode, umi_2, gene_2_transcript_1_sequence, r1_fh, r2_fh, umi_nm = 0)\n",
    "make_paired_reads_and_write_to_fastq_file(cell_2_barcode, umi_2, gene_2_transcript_1_sequence, r1_fh, r2_fh, umi_nm = 0)\n",
    "make_paired_reads_and_write_to_fastq_file(cell_2_barcode, umi_2, gene_2_transcript_1_sequence, r1_fh, r2_fh, umi_nm = 0)\n",
    "make_paired_reads_and_write_to_fastq_file(cell_2_barcode, umi_2, gene_2_transcript_1_sequence, r1_fh, r2_fh, umi_nm = 0)\n",
    "make_paired_reads_and_write_to_fastq_file(cell_2_barcode, umi_2, gene_2_transcript_1_sequence, r1_fh, r2_fh, umi_nm = 0)\n",
    "make_paired_reads_and_write_to_fastq_file(cell_2_barcode, umi_3, gene_2_transcript_1_sequence, r1_fh, r2_fh, umi_nm = 0)\n",
    "\n",
    "r1_fh.close()\n",
    "r2_fh.close()"
   ]
  },
  {
   "cell_type": "code",
   "execution_count": 103,
   "metadata": {
    "collapsed": false
   },
   "outputs": [
    {
     "name": "stdout",
     "output_type": "stream",
     "text": [
      "BCM:AGATCG:BC:AGATAG:TESTREAD_DPQA3F_CTCCG\t0\t0\t71\t255\t49M20N21M\t-1\t-1\t70\tCCCTCCAATTATCTACCCCCTTCACATCCACTCCATACCACATCCAATCCAAACAATTCCAAATATCCCT\tarray('B', [30, 30, 30, 30, 30, 30, 30, 30, 30, 30, 30, 30, 30, 30, 30, 30, 30, 30, 30, 30, 30, 30, 30, 30, 30, 30, 30, 30, 30, 30, 30, 30, 30, 30, 30, 30, 30, 30, 30, 30, 30, 30, 30, 30, 30, 30, 30, 30, 30, 30, 30, 30, 30, 30, 30, 30, 30, 30, 30, 30, 30, 30, 30, 30, 30, 30, 30, 30, 30, 30])\t[('NH', 1), ('HI', 1), ('AS', 70), ('nM', 0), ('XS', '+'), ('GN', 'ENSG_test1')]\n",
      "BCM:AGATCG:BC:AGTTCG:TESTREAD_I7ZDKT_TCTAA\t0\t0\t78\t255\t42M20N28M\t-1\t-1\t70\tATTATCTACCCCCTTCACATCCACTCCATACCACATCCAATCCAAACAATTCCAAATATCCCTTCTTCTC\tarray('B', [30, 30, 30, 30, 30, 30, 30, 30, 30, 30, 30, 30, 30, 30, 30, 30, 30, 30, 30, 30, 30, 30, 30, 30, 30, 30, 30, 30, 30, 30, 30, 30, 30, 30, 30, 30, 30, 30, 30, 30, 30, 30, 30, 30, 30, 30, 30, 30, 30, 30, 30, 30, 30, 30, 30, 30, 30, 30, 30, 30, 30, 30, 30, 30, 30, 30, 30, 30, 30, 30])\t[('NH', 1), ('HI', 1), ('AS', 70), ('nM', 0), ('XS', '+'), ('GN', 'ENSG_test1')]\n",
      "BCM:AGATCG:BC:GGATCG:TESTREAD_HEFYGS_CAGGT\t0\t0\t81\t255\t39M20N31M\t-1\t-1\t70\tATCTACCCCCTTCACATCCACTCCATACCACATCCAATCCAAACAATTCCAAATATCCCTTCTTCTCTAT\tarray('B', [30, 30, 30, 30, 30, 30, 30, 30, 30, 30, 30, 30, 30, 30, 30, 30, 30, 30, 30, 30, 30, 30, 30, 30, 30, 30, 30, 30, 30, 30, 30, 30, 30, 30, 30, 30, 30, 30, 30, 30, 30, 30, 30, 30, 30, 30, 30, 30, 30, 30, 30, 30, 30, 30, 30, 30, 30, 30, 30, 30, 30, 30, 30, 30, 30, 30, 30, 30, 30, 30])\t[('NH', 1), ('HI', 1), ('AS', 70), ('nM', 0), ('XS', '+'), ('GN', 'ENSG_test1')]\n",
      "BCM:AGATCG:BC:AGATTG:TESTREAD_X0DJD0_TAGGG\t0\t0\t87\t255\t33M20N37M\t-1\t-1\t70\tCCCCTTCACATCCACTCCATACCACATCCAATCCAAACAATTCCAAATATCCCTTCTTCTCTATCTACTC\tarray('B', [30, 30, 30, 30, 30, 30, 30, 30, 30, 30, 30, 30, 30, 30, 30, 30, 30, 30, 30, 30, 30, 30, 30, 30, 30, 30, 30, 30, 30, 30, 30, 30, 30, 30, 30, 30, 30, 30, 30, 30, 30, 30, 30, 30, 30, 30, 30, 30, 30, 30, 30, 30, 30, 30, 30, 30, 30, 30, 30, 30, 30, 30, 30, 30, 30, 30, 30, 30, 30, 30])\t[('NH', 1), ('HI', 1), ('AS', 70), ('nM', 0), ('XS', '+'), ('GN', 'ENSG_test1')]\n",
      "BCM:AGATCG:BC:CGATCG:TESTREAD_K4RYRK_ATCCC\t0\t0\t98\t255\t22M20N48M\t-1\t-1\t70\tCCACTCCATACCACATCCAATCCAAACAATTCCAAATATCCCTTCTTCTCTATCTACTCTTTTATCCACT\tarray('B', [30, 30, 30, 30, 30, 30, 30, 30, 30, 30, 30, 30, 30, 30, 30, 30, 30, 30, 30, 30, 30, 30, 30, 30, 30, 30, 30, 30, 30, 30, 30, 30, 30, 30, 30, 30, 30, 30, 30, 30, 30, 30, 30, 30, 30, 30, 30, 30, 30, 30, 30, 30, 30, 30, 30, 30, 30, 30, 30, 30, 30, 30, 30, 30, 30, 30, 30, 30, 30, 30])\t[('NH', 1), ('HI', 1), ('AS', 70), ('nM', 0), ('XS', '+'), ('GN', 'ENSG_test1')]\n",
      "BCM:AGATCG:BC:ATATCG:TESTREAD_GB8IMR_ACTAA\t0\t0\t107\t255\t13M20N57M\t-1\t-1\t70\tACCACATCCAATCCAAACAATTCCAAATATCCCTTCTTCTCTATCTACTCTTTTATCCACTTAACAACCT\tarray('B', [30, 30, 30, 30, 30, 30, 30, 30, 30, 30, 30, 30, 30, 30, 30, 30, 30, 30, 30, 30, 30, 30, 30, 30, 30, 30, 30, 30, 30, 30, 30, 30, 30, 30, 30, 30, 30, 30, 30, 30, 30, 30, 30, 30, 30, 30, 30, 30, 30, 30, 30, 30, 30, 30, 30, 30, 30, 30, 30, 30, 30, 30, 30, 30, 30, 30, 30, 30, 30, 30])\t[('NH', 1), ('HI', 1), ('AS', 70), ('nM', 0), ('XS', '+'), ('GN', 'ENSG_test1')]\n",
      "BCM:AGATCG:BC:AGAGCG:TESTREAD_N5KDNB_ATCCA\t0\t0\t142\t255\t70M\t-1\t-1\t70\tAACAATTCCAAATATCCCTTCTTCTCTATCTACTCTTTTATCCACTTAACAACCTCACATACCTTAACAC\tarray('B', [30, 30, 30, 30, 30, 30, 30, 30, 30, 30, 30, 30, 30, 30, 30, 30, 30, 30, 30, 30, 30, 30, 30, 30, 30, 30, 30, 30, 30, 30, 30, 30, 30, 30, 30, 30, 30, 30, 30, 30, 30, 30, 30, 30, 30, 30, 30, 30, 30, 30, 30, 30, 30, 30, 30, 30, 30, 30, 30, 30, 30, 30, 30, 30, 30, 30, 30, 30, 30, 30])\t[('NH', 1), ('HI', 1), ('AS', 68), ('nM', 0), ('GN', 'ENSG_test1')]\n",
      "BCM:AGATCG:BC:AGTTCG:TESTREAD_VZ38RE_ATCTG\t0\t0\t152\t255\t70M\t-1\t-1\t70\tAATATCCCTTCTTCTCTATCTACTCTTTTATCCACTTAACAACCTCACATACCTTAACACCATTTATTAA\tarray('B', [30, 30, 30, 30, 30, 30, 30, 30, 30, 30, 30, 30, 30, 30, 30, 30, 30, 30, 30, 30, 30, 30, 30, 30, 30, 30, 30, 30, 30, 30, 30, 30, 30, 30, 30, 30, 30, 30, 30, 30, 30, 30, 30, 30, 30, 30, 30, 30, 30, 30, 30, 30, 30, 30, 30, 30, 30, 30, 30, 30, 30, 30, 30, 30, 30, 30, 30, 30, 30, 30])\t[('NH', 1), ('HI', 1), ('AS', 68), ('nM', 0), ('GN', 'ENSG_test1')]\n",
      "BCM:AGATCG:BC:AGATAG:TESTREAD_3WWUN5_ATCCA\t0\t0\t172\t255\t68M2S\t-1\t-1\t68\tTACTCTTTTATCCACTTAACAACCTCACATACCTTAACACCATTTATTAACTATTAACAAATTATTACAC\tarray('B', [30, 30, 30, 30, 30, 30, 30, 30, 30, 30, 30, 30, 30, 30, 30, 30, 30, 30, 30, 30, 30, 30, 30, 30, 30, 30, 30, 30, 30, 30, 30, 30, 30, 30, 30, 30, 30, 30, 30, 30, 30, 30, 30, 30, 30, 30, 30, 30, 30, 30, 30, 30, 30, 30, 30, 30, 30, 30, 30, 30, 30, 30, 30, 30, 30, 30, 30, 30, 30, 30])\t[('NH', 1), ('HI', 1), ('AS', 66), ('nM', 0), ('GN', 'ENSG_test1')]\n",
      "BCM:AGATCG:BC:GGATCG:TESTREAD_OCXIOW_CCAAA\t0\t0\t204\t255\t36M20N34M\t-1\t-1\t70\tCTTAACACCATTTATTAACTATTAACAAATTATTACACTATAATATTAAATAAAATATCCACAATACACC\tarray('B', [30, 30, 30, 30, 30, 30, 30, 30, 30, 30, 30, 30, 30, 30, 30, 30, 30, 30, 30, 30, 30, 30, 30, 30, 30, 30, 30, 30, 30, 30, 30, 30, 30, 30, 30, 30, 30, 30, 30, 30, 30, 30, 30, 30, 30, 30, 30, 30, 30, 30, 30, 30, 30, 30, 30, 30, 30, 30, 30, 30, 30, 30, 30, 30, 30, 30, 30, 30, 30, 30])\t[('NH', 1), ('HI', 1), ('AS', 70), ('nM', 0), ('XS', '+'), ('GN', 'ENSG_test1')]\n",
      "BCM:AGATCG:BC:CGATCG:TESTREAD_GWEQ8Y_TTGGT\t0\t0\t224\t255\t16M20N54M\t-1\t-1\t70\tATTAACAAATTATTACACTATAATATTAAATAAAATATCCACAATACACCCTTCCCAAACTCCCAATAAC\tarray('B', [30, 30, 30, 30, 30, 30, 30, 30, 30, 30, 30, 30, 30, 30, 30, 30, 30, 30, 30, 30, 30, 30, 30, 30, 30, 30, 30, 30, 30, 30, 30, 30, 30, 30, 30, 30, 30, 30, 30, 30, 30, 30, 30, 30, 30, 30, 30, 30, 30, 30, 30, 30, 30, 30, 30, 30, 30, 30, 30, 30, 30, 30, 30, 30, 30, 30, 30, 30, 30, 30])\t[('NH', 1), ('HI', 1), ('AS', 70), ('nM', 0), ('XS', '+'), ('GN', 'ENSG_test1')]\n",
      "BCM:AGATCG:BC:AGATCA:TESTREAD_VXDYOW_CGTAA\t0\t0\t383\t255\t47M20N23M\t-1\t-1\t70\tTAATAAACAACTACTTTTCAAAAACAAACAATTATCTTTCCACATACTCACCTCAAATACTTTATCACAA\tarray('B', [30, 30, 30, 30, 30, 30, 30, 30, 30, 30, 30, 30, 30, 30, 30, 30, 30, 30, 30, 30, 30, 30, 30, 30, 30, 30, 30, 30, 30, 30, 30, 30, 30, 30, 30, 30, 30, 30, 30, 30, 30, 30, 30, 30, 30, 30, 30, 30, 30, 30, 30, 30, 30, 30, 30, 30, 30, 30, 30, 30, 30, 30, 30, 30, 30, 30, 30, 30, 30, 30])\t[('NH', 1), ('HI', 1), ('AS', 70), ('nM', 0), ('XS', '+'), ('GN', 'ENSG_test2')]\n",
      "BCM:AGATCG:BC:AGACCG:TESTREAD_SJH46P_CAGGT\t0\t0\t393\t255\t37M20N33M\t-1\t-1\t70\tCTACTTTTCAAAAACAAACAATTATCTTTCCACATACTCACCTCAAATACTTTATCACAAACCAACCAAA\tarray('B', [30, 30, 30, 30, 30, 30, 30, 30, 30, 30, 30, 30, 30, 30, 30, 30, 30, 30, 30, 30, 30, 30, 30, 30, 30, 30, 30, 30, 30, 30, 30, 30, 30, 30, 30, 30, 30, 30, 30, 30, 30, 30, 30, 30, 30, 30, 30, 30, 30, 30, 30, 30, 30, 30, 30, 30, 30, 30, 30, 30, 30, 30, 30, 30, 30, 30, 30, 30, 30, 30])\t[('NH', 1), ('HI', 1), ('AS', 70), ('nM', 0), ('XS', '+'), ('GN', 'ENSG_test2')]\n",
      "BCM:AGATCG:BC:CGATCG:TESTREAD_BAZY76_TAGTT\t0\t0\t402\t255\t28M20N42M\t-1\t-1\t70\tAAAAACAAACAATTATCTTTCCACATACTCACCTCAAATACTTTATCACAAACCAACCAAATTCATTATT\tarray('B', [30, 30, 30, 30, 30, 30, 30, 30, 30, 30, 30, 30, 30, 30, 30, 30, 30, 30, 30, 30, 30, 30, 30, 30, 30, 30, 30, 30, 30, 30, 30, 30, 30, 30, 30, 30, 30, 30, 30, 30, 30, 30, 30, 30, 30, 30, 30, 30, 30, 30, 30, 30, 30, 30, 30, 30, 30, 30, 30, 30, 30, 30, 30, 30, 30, 30, 30, 30, 30, 30])\t[('NH', 1), ('HI', 1), ('AS', 70), ('nM', 0), ('XS', '+'), ('GN', 'ENSG_test2')]\n",
      "BCM:AGATCG:BC:AGTTCG:TESTREAD_HQ927S_CAGGT\t0\t0\t402\t255\t28M20N42M\t-1\t-1\t70\tAAAAACAAACAATTATCTTTCCACATACTCACCTCAAATACTTTATCACAAACCAACCAAATTCATTATT\tarray('B', [30, 30, 30, 30, 30, 30, 30, 30, 30, 30, 30, 30, 30, 30, 30, 30, 30, 30, 30, 30, 30, 30, 30, 30, 30, 30, 30, 30, 30, 30, 30, 30, 30, 30, 30, 30, 30, 30, 30, 30, 30, 30, 30, 30, 30, 30, 30, 30, 30, 30, 30, 30, 30, 30, 30, 30, 30, 30, 30, 30, 30, 30, 30, 30, 30, 30, 30, 30, 30, 30])\t[('NH', 1), ('HI', 1), ('AS', 70), ('nM', 0), ('XS', '+'), ('GN', 'ENSG_test2')]\n",
      "BCM:AGATCG:BC:AGGTCG:TESTREAD_TEFUF7_CCAAA\t0\t0\t403\t255\t27M20N43M\t-1\t-1\t70\tAAAACAAACAATTATCTTTCCACATACTCACCTCAAATACTTTATCACAAACCAACCAAATTCATTATTC\tarray('B', [30, 30, 30, 30, 30, 30, 30, 30, 30, 30, 30, 30, 30, 30, 30, 30, 30, 30, 30, 30, 30, 30, 30, 30, 30, 30, 30, 30, 30, 30, 30, 30, 30, 30, 30, 30, 30, 30, 30, 30, 30, 30, 30, 30, 30, 30, 30, 30, 30, 30, 30, 30, 30, 30, 30, 30, 30, 30, 30, 30, 30, 30, 30, 30, 30, 30, 30, 30, 30, 30])\t[('NH', 1), ('HI', 1), ('AS', 70), ('nM', 0), ('XS', '+'), ('GN', 'ENSG_test2')]\n"
     ]
    }
   ],
   "source": [
    "import pysam\n",
    "bam_obj = pysam.AlignmentFile(\"/home/rob/Dropbox/python_package_dev/fluidigm_800_chip_processor/test/test_out/test_Seq/test_ROW10_R2_umi_labelledAligned.sortedByCoord.out_tagged.bam\", 'r')\n",
    "for _read in bam_obj:\n",
    "    _read.set_tag(\"GN\", \",\".join(list(set(_read.get_tag('GN').split(',')))))\n",
    "    print _read\n",
    "    "
   ]
  },
  {
   "cell_type": "code",
   "execution_count": 100,
   "metadata": {
    "collapsed": false
   },
   "outputs": [
    {
     "data": {
      "text/plain": [
       "['foo', 'bar']"
      ]
     },
     "execution_count": 100,
     "metadata": {},
     "output_type": "execute_result"
    }
   ],
   "source": [
    "'foo,bar'.split(',')"
   ]
  },
  {
   "cell_type": "code",
   "execution_count": null,
   "metadata": {
    "collapsed": true
   },
   "outputs": [],
   "source": []
  }
 ],
 "metadata": {
  "kernelspec": {
   "display_name": "Python 2",
   "language": "python",
   "name": "python2"
  },
  "language_info": {
   "codemirror_mode": {
    "name": "ipython",
    "version": 2
   },
   "file_extension": ".py",
   "mimetype": "text/x-python",
   "name": "python",
   "nbconvert_exporter": "python",
   "pygments_lexer": "ipython2",
   "version": "2.7.12"
  }
 },
 "nbformat": 4,
 "nbformat_minor": 2
}
